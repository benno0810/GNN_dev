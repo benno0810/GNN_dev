{
 "cells": [
  {
   "cell_type": "code",
   "execution_count": 1,
   "metadata": {
    "collapsed": true
   },
   "outputs": [
    {
     "name": "stderr",
     "output_type": "stream",
     "text": [
      "Using backend: pytorch\n"
     ]
    }
   ],
   "source": [
    "import torch\n",
    "import time\n",
    "import math\n",
    "import dgl\n",
    "import numpy as np\n",
    "import torch as th\n",
    "from dgl.data import citation_graph as citegrh\n",
    "from dgl.data import CoraBinary\n",
    "from dgl.data import CoraGraphDataset\n",
    "from dgl import DGLGraph\n",
    "import dgl.function as fn\n",
    "import networkx as nx\n",
    "import torch.nn.functional as F\n",
    "from dgl.data import RedditDataset, KarateClubDataset\n",
    "from dgl.nn.pytorch.conv import GraphConv\n",
    "import matplotlib.pyplot as plt\n",
    "from torch.nn import MSELoss\n",
    "from losses import compute_loss_multiclass\n",
    "from functools import partial\n",
    "import tensorwatch as tw"
   ]
  },
  {
   "cell_type": "code",
   "execution_count": 2,
   "outputs": [
    {
     "name": "stdout",
     "output_type": "stream",
     "text": [
      "[Debug][0]: FileStream started : C:\\Users\\benno\\OneDrive\\Documents\\GitHub\\GNN_dev\\test.log : t=2.33\n",
      "[Debug][0]: Notebook created : C:\\Users\\benno\\OneDrive\\Documents\\GitHub\\GNN_dev\\test.ipynb : t=2.33\n"
     ]
    }
   ],
   "source": [
    "import tensorwatch as tw\n",
    "import time\n",
    "\n",
    "# streams will be stored in test.log file\n",
    "w = tw.Watcher(filename='test.log')\n",
    "\n",
    "# create a stream for logging\n",
    "s = w.create_stream(name='metric1')\n",
    "\n",
    "# generate Jupyter Notebook to view real-time streams\n",
    "w.make_notebook()\n",
    "class GCN(th.nn.Module):\n",
    "    def __init__(self,\n",
    "                 g,\n",
    "                 in_feats,\n",
    "                 n_hidden,\n",
    "                 n_classes,\n",
    "                 n_layers,\n",
    "                 activation,\n",
    "                 dropout):\n",
    "        super(GCN, self).__init__()\n",
    "        self.g = g\n",
    "        self.layers = th.nn.ModuleList()\n",
    "        # input layer\n",
    "        self.layers.append(GraphConv(in_feats, n_hidden, activation=activation))\n",
    "        # n_layers hidden layer\n",
    "        for i in range(n_layers - 1):\n",
    "            self.layers.append(GraphConv(n_hidden, n_hidden, activation=activation))\n",
    "        # 1 output layer, use softmax as activation on this layer\n",
    "        self.layers.append(GraphConv(n_hidden, n_classes,activation=partial(F.softmax,dim=1)))\n",
    "        self.dropout = th.nn.Dropout(p=dropout)\n",
    "\n",
    "    def forward(self, features):\n",
    "        h = features\n",
    "        for i, layers in enumerate(self.layers):\n",
    "            if i != 0:\n",
    "                h = self.dropout(h)\n",
    "            h = layers(self.g, h)\n",
    "        #output is f(x) through a softmax filter\n",
    "        return h\n",
    "def load_kara():\n",
    "    data =KarateClubDataset()\n",
    "    n_classes = data.num_classes\n",
    "    g = data[0]\n",
    "    n_edges=g.number_of_edges()\n",
    "    n=len(g.ndata['label'])\n",
    "    labels=g.ndata['label']\n",
    "    #construct features, train,val,test masks\n",
    "    g.ndata['feat']=g.adj().to_dense()\n",
    "    #test=g.adj()\n",
    "    in_feats=g.adj().shape[1]\n",
    "    #this features is not efficient\n",
    "    features=g.ndata['feat']\n",
    "\n",
    "    return g,features,n_classes,in_feats,n_edges,labels\n"
   ],
   "metadata": {
    "collapsed": false,
    "pycharm": {
     "name": "#%%\n"
    }
   }
  },
  {
   "cell_type": "code",
   "execution_count": 3,
   "outputs": [
    {
     "ename": "AttributeError",
     "evalue": "module 'torch.onnx' has no attribute 'set_training'",
     "output_type": "error",
     "traceback": [
      "\u001B[1;31m---------------------------------------------------------------------------\u001B[0m",
      "\u001B[1;31mAttributeError\u001B[0m                            Traceback (most recent call last)",
      "\u001B[1;32m<ipython-input-3-e140c533930d>\u001B[0m in \u001B[0;36m<module>\u001B[1;34m\u001B[0m\n\u001B[0;32m     19\u001B[0m \u001B[1;33m\u001B[0m\u001B[0m\n\u001B[0;32m     20\u001B[0m \u001B[1;33m\u001B[0m\u001B[0m\n\u001B[1;32m---> 21\u001B[1;33m \u001B[0mtw\u001B[0m\u001B[1;33m.\u001B[0m\u001B[0mdraw_model\u001B[0m\u001B[1;33m(\u001B[0m\u001B[0mmodel\u001B[0m\u001B[1;33m)\u001B[0m\u001B[1;33m\u001B[0m\u001B[1;33m\u001B[0m\u001B[0m\n\u001B[0m\u001B[0;32m     22\u001B[0m \u001B[1;33m\u001B[0m\u001B[0m\n",
      "\u001B[1;32m~\\anaconda3\\envs\\gpu\\lib\\site-packages\\tensorwatch\\__init__.py\u001B[0m in \u001B[0;36mdraw_model\u001B[1;34m(model, input_shape, orientation, png_filename)\u001B[0m\n\u001B[0;32m     33\u001B[0m \u001B[1;32mdef\u001B[0m \u001B[0mdraw_model\u001B[0m\u001B[1;33m(\u001B[0m\u001B[0mmodel\u001B[0m\u001B[1;33m,\u001B[0m \u001B[0minput_shape\u001B[0m\u001B[1;33m=\u001B[0m\u001B[1;32mNone\u001B[0m\u001B[1;33m,\u001B[0m \u001B[0morientation\u001B[0m\u001B[1;33m=\u001B[0m\u001B[1;34m'TB'\u001B[0m\u001B[1;33m,\u001B[0m \u001B[0mpng_filename\u001B[0m\u001B[1;33m=\u001B[0m\u001B[1;32mNone\u001B[0m\u001B[1;33m)\u001B[0m\u001B[1;33m:\u001B[0m \u001B[1;31m#orientation = 'LR' for landscpe\u001B[0m\u001B[1;33m\u001B[0m\u001B[1;33m\u001B[0m\u001B[0m\n\u001B[0;32m     34\u001B[0m     \u001B[1;32mfrom\u001B[0m \u001B[1;33m.\u001B[0m\u001B[0mmodel_graph\u001B[0m\u001B[1;33m.\u001B[0m\u001B[0mhiddenlayer\u001B[0m \u001B[1;32mimport\u001B[0m \u001B[0mpytorch_draw_model\u001B[0m\u001B[1;33m\u001B[0m\u001B[1;33m\u001B[0m\u001B[0m\n\u001B[1;32m---> 35\u001B[1;33m     \u001B[0mg\u001B[0m \u001B[1;33m=\u001B[0m \u001B[0mpytorch_draw_model\u001B[0m\u001B[1;33m.\u001B[0m\u001B[0mdraw_graph\u001B[0m\u001B[1;33m(\u001B[0m\u001B[0mmodel\u001B[0m\u001B[1;33m,\u001B[0m \u001B[0minput_shape\u001B[0m\u001B[1;33m)\u001B[0m\u001B[1;33m\u001B[0m\u001B[1;33m\u001B[0m\u001B[0m\n\u001B[0m\u001B[0;32m     36\u001B[0m     \u001B[1;32mreturn\u001B[0m \u001B[0mg\u001B[0m\u001B[1;33m\u001B[0m\u001B[1;33m\u001B[0m\u001B[0m\n\u001B[0;32m     37\u001B[0m \u001B[1;33m\u001B[0m\u001B[0m\n",
      "\u001B[1;32m~\\anaconda3\\envs\\gpu\\lib\\site-packages\\tensorwatch\\model_graph\\hiddenlayer\\pytorch_draw_model.py\u001B[0m in \u001B[0;36mdraw_graph\u001B[1;34m(model, args)\u001B[0m\n\u001B[0;32m     33\u001B[0m         \u001B[0margs\u001B[0m \u001B[1;33m=\u001B[0m \u001B[0mtorch\u001B[0m\u001B[1;33m.\u001B[0m\u001B[0mones\u001B[0m\u001B[1;33m(\u001B[0m\u001B[0margs\u001B[0m\u001B[1;33m)\u001B[0m\u001B[1;33m\u001B[0m\u001B[1;33m\u001B[0m\u001B[0m\n\u001B[0;32m     34\u001B[0m \u001B[1;33m\u001B[0m\u001B[0m\n\u001B[1;32m---> 35\u001B[1;33m     \u001B[0mdot\u001B[0m \u001B[1;33m=\u001B[0m \u001B[0mdraw_img_classifier\u001B[0m\u001B[1;33m(\u001B[0m\u001B[0mmodel\u001B[0m\u001B[1;33m,\u001B[0m \u001B[0margs\u001B[0m\u001B[1;33m)\u001B[0m\u001B[1;33m\u001B[0m\u001B[1;33m\u001B[0m\u001B[0m\n\u001B[0m\u001B[0;32m     36\u001B[0m     \u001B[1;32mreturn\u001B[0m \u001B[0mDotWrapper\u001B[0m\u001B[1;33m(\u001B[0m\u001B[0mdot\u001B[0m\u001B[1;33m)\u001B[0m\u001B[1;33m\u001B[0m\u001B[1;33m\u001B[0m\u001B[0m\n\u001B[0;32m     37\u001B[0m \u001B[1;33m\u001B[0m\u001B[0m\n",
      "\u001B[1;32m~\\anaconda3\\envs\\gpu\\lib\\site-packages\\tensorwatch\\model_graph\\hiddenlayer\\pytorch_draw_model.py\u001B[0m in \u001B[0;36mdraw_img_classifier\u001B[1;34m(model, dataset, display_param_nodes, rankdir, styles, input_shape)\u001B[0m\n\u001B[0;32m     61\u001B[0m     \u001B[1;32mtry\u001B[0m\u001B[1;33m:\u001B[0m\u001B[1;33m\u001B[0m\u001B[1;33m\u001B[0m\u001B[0m\n\u001B[0;32m     62\u001B[0m         \u001B[0mnon_para_model\u001B[0m \u001B[1;33m=\u001B[0m \u001B[0mdistiller\u001B[0m\u001B[1;33m.\u001B[0m\u001B[0mmake_non_parallel_copy\u001B[0m\u001B[1;33m(\u001B[0m\u001B[0mmodel\u001B[0m\u001B[1;33m)\u001B[0m\u001B[1;33m\u001B[0m\u001B[1;33m\u001B[0m\u001B[0m\n\u001B[1;32m---> 63\u001B[1;33m         \u001B[0mg\u001B[0m \u001B[1;33m=\u001B[0m \u001B[0mSummaryGraph\u001B[0m\u001B[1;33m(\u001B[0m\u001B[0mnon_para_model\u001B[0m\u001B[1;33m,\u001B[0m \u001B[0mdummy_input\u001B[0m\u001B[1;33m)\u001B[0m\u001B[1;33m\u001B[0m\u001B[1;33m\u001B[0m\u001B[0m\n\u001B[0m\u001B[0;32m     64\u001B[0m \u001B[1;33m\u001B[0m\u001B[0m\n\u001B[0;32m     65\u001B[0m         \u001B[1;32mreturn\u001B[0m \u001B[0msgraph2dot\u001B[0m\u001B[1;33m(\u001B[0m\u001B[0mg\u001B[0m\u001B[1;33m,\u001B[0m \u001B[0mdisplay_param_nodes\u001B[0m\u001B[1;33m,\u001B[0m \u001B[0mrankdir\u001B[0m\u001B[1;33m,\u001B[0m \u001B[0mstyles\u001B[0m\u001B[1;33m)\u001B[0m\u001B[1;33m\u001B[0m\u001B[1;33m\u001B[0m\u001B[0m\n",
      "\u001B[1;32m~\\anaconda3\\envs\\gpu\\lib\\site-packages\\tensorwatch\\model_graph\\hiddenlayer\\summary_graph.py\u001B[0m in \u001B[0;36m__init__\u001B[1;34m(self, model, dummy_input, apply_scope_name_workarounds)\u001B[0m\n\u001B[0;32m     83\u001B[0m         \u001B[0mmodel_clone\u001B[0m\u001B[1;33m,\u001B[0m \u001B[0mconverted_module_names_map\u001B[0m \u001B[1;33m=\u001B[0m \u001B[0m_to_distiller_modulelist\u001B[0m\u001B[1;33m(\u001B[0m\u001B[0mmodel_clone\u001B[0m\u001B[1;33m)\u001B[0m\u001B[1;33m\u001B[0m\u001B[1;33m\u001B[0m\u001B[0m\n\u001B[0;32m     84\u001B[0m \u001B[1;33m\u001B[0m\u001B[0m\n\u001B[1;32m---> 85\u001B[1;33m         \u001B[1;32mwith\u001B[0m \u001B[0mtorch\u001B[0m\u001B[1;33m.\u001B[0m\u001B[0monnx\u001B[0m\u001B[1;33m.\u001B[0m\u001B[0mset_training\u001B[0m\u001B[1;33m(\u001B[0m\u001B[0mmodel_clone\u001B[0m\u001B[1;33m,\u001B[0m \u001B[1;32mFalse\u001B[0m\u001B[1;33m)\u001B[0m\u001B[1;33m:\u001B[0m\u001B[1;33m\u001B[0m\u001B[1;33m\u001B[0m\u001B[0m\n\u001B[0m\u001B[0;32m     86\u001B[0m \u001B[1;33m\u001B[0m\u001B[0m\n\u001B[0;32m     87\u001B[0m             \u001B[0mdevice\u001B[0m \u001B[1;33m=\u001B[0m \u001B[0mdistiller\u001B[0m\u001B[1;33m.\u001B[0m\u001B[0mmodel_device\u001B[0m\u001B[1;33m(\u001B[0m\u001B[0mmodel_clone\u001B[0m\u001B[1;33m)\u001B[0m\u001B[1;33m\u001B[0m\u001B[1;33m\u001B[0m\u001B[0m\n",
      "\u001B[1;31mAttributeError\u001B[0m: module 'torch.onnx' has no attribute 'set_training'"
     ]
    }
   ],
   "source": [
    "dropout = 0\n",
    "gpu = 0\n",
    "lr = 5e-2\n",
    "n_epochs = 20000\n",
    "n_hidden =256  # 隐藏层节点的数量\n",
    "n_layers = 0  # 输入层 + 输出层的数量\n",
    "weight_decay = 5e-4  # 权重衰减\n",
    "self_loop = True  # 自循环\n",
    "\n",
    "g,features,n_classes,in_feats,n_edges,labels = load_kara()\n",
    "\n",
    "model = GCN(g,\n",
    "        in_feats,\n",
    "        n_hidden,\n",
    "        n_classes,\n",
    "        n_layers,\n",
    "        F.relu,\n",
    "        dropout)\n",
    "\n",
    "\n",
    "tw.draw_model(model)\n"
   ],
   "metadata": {
    "collapsed": false,
    "pycharm": {
     "name": "#%%\n"
    }
   }
  }
 ],
 "metadata": {
  "kernelspec": {
   "display_name": "Python 3",
   "language": "python",
   "name": "python3"
  },
  "language_info": {
   "codemirror_mode": {
    "name": "ipython",
    "version": 2
   },
   "file_extension": ".py",
   "mimetype": "text/x-python",
   "name": "python",
   "nbconvert_exporter": "python",
   "pygments_lexer": "ipython2",
   "version": "2.7.6"
  }
 },
 "nbformat": 4,
 "nbformat_minor": 0
}