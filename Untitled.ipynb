{
 "cells": [
  {
   "cell_type": "code",
   "execution_count": 17,
   "metadata": {},
   "outputs": [],
   "source": [
    "import math \n",
    "import numpy as np\n",
    "import pandas as pd\n",
    "import random\n",
    "from scipy import stats\n",
    "import community as community_louvain\n",
    "def gaussian(x, y=0,level=1,mu=0,sigma=1):\n",
    "    \"\"\"\n",
    "    calculate gaussian filter kernal\n",
    "    :param sigma: standard deviation of gaussian distribution\n",
    "    :param level: 1: 1-d kernal, 2: 2-d kernal\n",
    "    :param x:\n",
    "    :param y:\n",
    "    :return: gaussian kernal\n",
    "    \"\"\"\n",
    "    if level == 1:\n",
    "        return np.exp(-((x - mu)**2)/(2*sigma**2)) / (sigma * np.sqrt(2*np.pi))\n",
    "    elif level == 2:\n",
    "        return 1 / (2 * np.pi * sigma * sigma) * np.exp(\n",
    "            -((x-mu) ** 2 + (y-mu) ** 2) / 2 / sigma / sigma)\n",
    "    "
   ]
  },
  {
   "cell_type": "code",
   "execution_count": 7,
   "metadata": {},
   "outputs": [
    {
     "name": "stdout",
     "output_type": "stream",
     "text": [
      "0.158113883008419 0.0\n",
      "[1.79762504e-217 2.67735434e-139 1.69407767e-078 4.55387923e-035\n",
      " 5.20056374e-009 2.52313252e+000 5.20056374e-009 4.55387923e-035\n",
      " 1.69407767e-078 2.67735434e-139 1.79762504e-217]\n",
      "2.523132532421287\n",
      "[0. 0. 1. 0. 0.]\n",
      "[0.00000000e+000 0.00000000e+000 1.79762504e-217 2.67735434e-139\n",
      " 1.69407767e-078 4.55387923e-035 5.20056374e-009 2.52313252e+000\n",
      " 5.20056374e-009 4.55387923e-035 1.69407767e-078 2.67735434e-139\n",
      " 1.79762504e-217 0.00000000e+000 0.00000000e+000]\n"
     ]
    }
   ],
   "source": [
    "signal=np.zeros(5)\n",
    "len(signal)\n",
    "signal[random.randint(0,len(signal))]=1\n",
    "x=np.arange(0,2*len(signal)+1)\n",
    "x=x-x.mean()\n",
    "sigma=x.std()*0.05\n",
    "mu=x.mean()\n",
    "print(sigma,mu)\n",
    "#1 / ((2 * np.pi) ** 0.5 * sigma) * np.exp(-((x-mu) ** 2 / 2 / (sigma ** 2)))\n",
    "pdf=gaussian(x=x,mu=mu,sigma=sigma)\n",
    "res= np.convolve(signal,pdf)\n",
    "print(pdf)\n",
    "print(np.sum(pdf))\n",
    "print(signal)\n",
    "print(res)"
   ]
  },
  {
   "cell_type": "code",
   "execution_count": 44,
   "metadata": {},
   "outputs": [
    {
     "name": "stdout",
     "output_type": "stream",
     "text": [
      "[0.00000000e+000 0.00000000e+000 0.00000000e+000 0.00000000e+000\n",
      " 0.00000000e+000 0.00000000e+000 0.00000000e+000 0.00000000e+000\n",
      " 0.00000000e+000 0.00000000e+000 0.00000000e+000 5.43472210e-323\n",
      " 1.72823373e-306 2.02534172e-290 8.73171710e-275 1.38486208e-259\n",
      " 8.08014041e-245 1.73435026e-230 1.36949431e-216 3.97822343e-203\n",
      " 4.25131835e-190 1.67133537e-177 2.41718058e-165 1.28605667e-153\n",
      " 2.51719371e-142 1.81250279e-131 4.80116079e-121 4.67863682e-111\n",
      " 1.67725052e-101 2.21198438e-092 1.07317783e-083 1.91543249e-075\n",
      " 1.25767238e-067 3.03790170e-060 2.69951302e-053 8.82475497e-047\n",
      " 1.06126881e-040 4.69519536e-035 7.64165541e-030 4.57537559e-025\n",
      " 1.00779354e-020 8.16623563e-017 2.43432053e-013 2.66955661e-010\n",
      " 1.07697600e-007 1.59837411e-005 8.72682695e-004 1.75283005e-002\n",
      " 1.29517596e-001 3.52065327e-001 3.52065327e-001 1.29517596e-001\n",
      " 1.75283005e-002 8.72682695e-004 1.59837411e-005 1.07697600e-007\n",
      " 2.66955661e-010 2.43432053e-013 8.16623563e-017 1.00779354e-020\n",
      " 4.57537559e-025 7.64165541e-030 4.69519536e-035 1.06126881e-040\n",
      " 8.82475497e-047 2.69951302e-053 3.03790170e-060 1.25767238e-067\n",
      " 1.91543249e-075 1.07317783e-083 2.21198438e-092 1.67725052e-101\n",
      " 4.67863682e-111 4.80116079e-121 1.81250279e-131 2.51719371e-142\n",
      " 1.28605667e-153 2.41718058e-165 1.67133537e-177 4.25131835e-190\n",
      " 3.97822343e-203 1.36949431e-216 1.73435026e-230 8.08014041e-245\n",
      " 1.38486208e-259 8.73171710e-275 2.02534172e-290 1.72823373e-306\n",
      " 5.43472210e-323 0.00000000e+000 0.00000000e+000 0.00000000e+000\n",
      " 0.00000000e+000 0.00000000e+000 0.00000000e+000 0.00000000e+000\n",
      " 0.00000000e+000 0.00000000e+000 0.00000000e+000 0.00000000e+000]\n"
     ]
    },
    {
     "data": {
      "text/plain": [
       "0.999999994649424"
      ]
     },
     "execution_count": 44,
     "metadata": {},
     "output_type": "execute_result"
    }
   ],
   "source": [
    "pdf2 = stats.norm(0,1).pdf(x)\n",
    "print(pdf2)\n",
    "np.sum(pdf2)"
   ]
  },
  {
   "cell_type": "code",
   "execution_count": 8,
   "metadata": {},
   "outputs": [
    {
     "name": "stdout",
     "output_type": "stream",
     "text": [
      "9.313225746154785e-10\n",
      "2.2118711567356232e-07\n"
     ]
    }
   ],
   "source": [
    "x=0.004210564307868481 - 0.004210563376545906\n",
    "print(x)\n",
    "print(x/0.004210564307868481)"
   ]
  },
  {
   "cell_type": "code",
   "execution_count": 12,
   "metadata": {},
   "outputs": [],
   "source": [
    "#calculate the gradient decendent based on modularity\n",
    "import networkx as nx\n",
    "def Q2(G1,mask =[True]):\n",
    "    \"\"\"\n",
    "\n",
    "    :param G1: input graph\n",
    "    :param mask: batch mask, for graph has nodes size of N, [1,2,3,4...N], the mask is size of N array [True, True, False...]\n",
    "    :return: modularity matrix Q, where modularity=tr(C*Q*C.T)\n",
    "    \"\"\"\n",
    "    # calculate modularity matrix Q\n",
    "    # A=np.array(nx.adjacency_matrix(G1).todense())\n",
    "    A = np.array(nx.adjacency_matrix(G1).todense())\n",
    "    A_row_cut = A[mask == True, :]\n",
    "    A_col_cut = A_row_cut[:, mask.T == True]\n",
    "    A = A_col_cut\n",
    "    T = A.sum(axis=(0, 1))\n",
    "    Q = A * 0\n",
    "    w_in = A.sum(axis=1)\n",
    "    w_in = w_in.reshape(w_in.shape[0], 1)\n",
    "    # w_out = w_in.reshape(w_in.shape[0], 1)\n",
    "    w_out = A.sum(axis=0)\n",
    "\n",
    "    K = w_in * w_out / T\n",
    "    Q = (A - K) / T\n",
    "    # set Qii to zero for every i, try not setting this\n",
    "    # for i in range(Q.shape[0]):\n",
    "    #    Q[i][i] = 0\n",
    "    return Q\n"
   ]
  },
  {
   "cell_type": "code",
   "execution_count": 43,
   "metadata": {},
   "outputs": [
    {
     "name": "stdout",
     "output_type": "stream",
     "text": [
      "5\n",
      "[[-0.0625      0.04166667  0.02083333  0.04166667 -0.04166667]\n",
      " [ 0.04166667 -0.02777778  0.04166667 -0.02777778 -0.02777778]\n",
      " [ 0.02083333  0.04166667 -0.0625     -0.04166667  0.04166667]\n",
      " [ 0.04166667 -0.02777778 -0.04166667 -0.02777778  0.05555556]\n",
      " [-0.04166667 -0.02777778  0.04166667  0.05555556 -0.02777778]]\n",
      "2\n",
      "[[ 1.  0.]\n",
      " [ 1. -0.]\n",
      " [ 1.  0.]\n",
      " [ 0.  1.]\n",
      " [-0.  1.]]\n",
      "0.11111111111111112 0.11111111111111113\n"
     ]
    }
   ],
   "source": [
    "G = nx.Graph()\n",
    "G.add_edge(0, 1)\n",
    "G.add_edge(0, 2)\n",
    "G.add_edge(0, 4)\n",
    "G.add_edge(1, 2)\n",
    "G.add_edge(2, 3)\n",
    "G.add_edge(3, 4)\n",
    "nx_g = G\n",
    "mask = [True]*len(nx_g)\n",
    "mask = np.array(mask)\n",
    "Q = Q2(nx_g,mask)\n",
    "print(len(nx_g)) \n",
    "print(Q)\n",
    "partition = community_louvain.best_partition(nx_g)\n",
    "score = community_louvain.modularity(partition, nx_g)\n",
    "n_classes = np.max(list(partition.values())) + 1\n",
    "print(n_classes)\n",
    "C = Q[0:n_classes] * 0\n",
    "C = C.T\n",
    "for node in partition.keys():\n",
    "    C[node][partition[node]] = 1.0\n",
    "temp = np.matmul(np.matmul(C.T, Q), C)\n",
    "modularity = temp.trace()\n",
    "print(C)\n",
    "print(modularity,score)"
   ]
  },
  {
   "cell_type": "code",
   "execution_count": 42,
   "metadata": {},
   "outputs": [
    {
     "name": "stdout",
     "output_type": "stream",
     "text": [
      "[[ 0.05555556 -0.05555556]\n",
      " [-0.05555556  0.05555556]]\n",
      "[array([[-0.11111111,  0.11111111],\n",
      "       [-0.11111111,  0.11111111]]), array([[-0.11111111, -0.11111111],\n",
      "       [ 0.11111111,  0.11111111]])]\n"
     ]
    }
   ],
   "source": [
    "#calculate the gradient by hand\n",
    "alpha = 1e-7\n",
    "gradient= np.gradient(temp)\n",
    "print(temp)\n",
    "print(gradient)"
   ]
  },
  {
   "cell_type": "code",
   "execution_count": null,
   "metadata": {},
   "outputs": [],
   "source": [
    "#H = AHW1+HW2 = (AW1+W2)X "
   ]
  },
  {
   "cell_type": "code",
   "execution_count": 45,
   "metadata": {},
   "outputs": [
    {
     "data": {
      "text/plain": [
       "4.4805985517834646e-05"
      ]
     },
     "execution_count": 45,
     "metadata": {},
     "output_type": "execute_result"
    }
   ],
   "source": [
    "(0.05304741486907005-0.053045038133859634)/0.053045038133859634"
   ]
  },
  {
   "cell_type": "code",
   "execution_count": null,
   "metadata": {},
   "outputs": [],
   "source": [
    "W1_grad = [[-0.0399,  0.0012, -0.0044,  0.0153],\n",
    "        [-0.0035, -0.0300, -0.0079, -0.0131],\n",
    "        [-0.0110, -0.0046, -0.0115, -0.0116],\n",
    "        [-0.0160, -0.0214,  0.0007, -0.0168]]\n",
    "W2_grad = [[-0.4390, -0.0431, -0.0152,  0.2049],\n",
    "        [-0.0233, -0.1568, -0.0163, -0.0888],\n",
    "        [-0.1213, -0.0389, -0.0699,  0.0468],\n",
    "        [-0.0319, -0.1428,  0.0096, -0.3343]]\n",
    "W3_grad = [[-0.4390, -0.0431, -0.0152,  0.2049],\n",
    "        [-0.0233, -0.1568, -0.0163, -0.0888],\n",
    "        [-0.1213, -0.0389, -0.0699,  0.0468],\n",
    "        [-0.0319, -0.1428,  0.0096, -0.3343]]\n",
    "W1 = "
   ]
  },
  {
   "cell_type": "code",
   "execution_count": 46,
   "metadata": {},
   "outputs": [
    {
     "ename": "ModuleNotFoundError",
     "evalue": "No module named 'torch'",
     "output_type": "error",
     "traceback": [
      "\u001b[1;31m---------------------------------------------------------------------------\u001b[0m",
      "\u001b[1;31mModuleNotFoundError\u001b[0m                       Traceback (most recent call last)",
      "\u001b[1;32m<ipython-input-46-eb42ca6e4af3>\u001b[0m in \u001b[0;36m<module>\u001b[1;34m\u001b[0m\n\u001b[1;32m----> 1\u001b[1;33m \u001b[1;32mimport\u001b[0m \u001b[0mtorch\u001b[0m\u001b[1;33m\u001b[0m\u001b[1;33m\u001b[0m\u001b[0m\n\u001b[0m",
      "\u001b[1;31mModuleNotFoundError\u001b[0m: No module named 'torch'"
     ]
    }
   ],
   "source": [
    "from utils import *\n",
    "from model import *\n",
    "n_classes = 4\n",
    "W1_grad = [[-0.0399,  0.0012, -0.0044,  0.0153],\n",
    "        [-0.0035, -0.0300, -0.0079, -0.0131],\n",
    "        [-0.0110, -0.0046, -0.0115, -0.0116],\n",
    "        [-0.0160, -0.0214,  0.0007, -0.0168]]\n",
    "W2_grad = [[-0.4390, -0.0431, -0.0152,  0.2049],\n",
    "        [-0.0233, -0.1568, -0.0163, -0.0888],\n",
    "        [-0.1213, -0.0389, -0.0699,  0.0468],\n",
    "        [-0.0319, -0.1428,  0.0096, -0.3343]]\n",
    "bias_grad = [[-0.4390, -0.0431, -0.0152,  0.2049],\n",
    "        [-0.0233, -0.1568, -0.0163, -0.0888],\n",
    "        [-0.1213, -0.0389, -0.0699,  0.0468],\n",
    "        [-0.0319, -0.1428,  0.0096, -0.3343]]\n",
    "\n",
    "W1_grad = th.FloatTensor(W1_grad)\n",
    "W1_grad.requires_grad=True\n",
    "W2_grad = th.FloatTensor(W2_grad)\n",
    "W2_grad.requires_grad=True\n",
    "bias_grad = th.FloatTensor(bias_grad)\n",
    "bias_grad.requires_grad=True\n",
    "\n",
    "W1 = th.eye(n_classes)\n",
    "W2 = th.zeros(n_classes,n_classes)\n",
    "bias = th.zeros(1,n_classes)"
   ]
  },
  {
   "cell_type": "code",
   "execution_count": null,
   "metadata": {},
   "outputs": [],
   "source": []
  }
 ],
 "metadata": {
  "kernelspec": {
   "display_name": "Python 3",
   "language": "python",
   "name": "python3"
  },
  "language_info": {
   "codemirror_mode": {
    "name": "ipython",
    "version": 3
   },
   "file_extension": ".py",
   "mimetype": "text/x-python",
   "name": "python",
   "nbconvert_exporter": "python",
   "pygments_lexer": "ipython3",
   "version": "3.7.1"
  }
 },
 "nbformat": 4,
 "nbformat_minor": 4
}
