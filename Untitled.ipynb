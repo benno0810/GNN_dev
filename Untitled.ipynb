{
 "cells": [
  {
   "cell_type": "code",
   "execution_count": 6,
   "metadata": {},
   "outputs": [],
   "source": [
    "import math \n",
    "import numpy as np\n",
    "import pandas as pd\n",
    "import random\n",
    "from scipy import stats\n",
    "def gaussian(x, y=0,level=1,mu=0,sigma=1):\n",
    "    \"\"\"\n",
    "    calculate gaussian filter kernal\n",
    "    :param sigma: standard deviation of gaussian distribution\n",
    "    :param level: 1: 1-d kernal, 2: 2-d kernal\n",
    "    :param x:\n",
    "    :param y:\n",
    "    :return: gaussian kernal\n",
    "    \"\"\"\n",
    "    if level == 1:\n",
    "        return np.exp(-((x - mu)**2)/(2*sigma**2)) / (sigma * np.sqrt(2*np.pi))\n",
    "    elif level == 2:\n",
    "        return 1 / (2 * np.pi * sigma * sigma) * np.exp(\n",
    "            -((x-mu) ** 2 + (y-mu) ** 2) / 2 / sigma / sigma)\n",
    "    "
   ]
  },
  {
   "cell_type": "code",
   "execution_count": 7,
   "metadata": {},
   "outputs": [
    {
     "name": "stdout",
     "output_type": "stream",
     "text": [
      "0.158113883008419 0.0\n",
      "[1.79762504e-217 2.67735434e-139 1.69407767e-078 4.55387923e-035\n",
      " 5.20056374e-009 2.52313252e+000 5.20056374e-009 4.55387923e-035\n",
      " 1.69407767e-078 2.67735434e-139 1.79762504e-217]\n",
      "2.523132532421287\n",
      "[0. 0. 1. 0. 0.]\n",
      "[0.00000000e+000 0.00000000e+000 1.79762504e-217 2.67735434e-139\n",
      " 1.69407767e-078 4.55387923e-035 5.20056374e-009 2.52313252e+000\n",
      " 5.20056374e-009 4.55387923e-035 1.69407767e-078 2.67735434e-139\n",
      " 1.79762504e-217 0.00000000e+000 0.00000000e+000]\n"
     ]
    }
   ],
   "source": [
    "signal=np.zeros(5)\n",
    "len(signal)\n",
    "signal[random.randint(0,len(signal))]=1\n",
    "x=np.arange(0,2*len(signal)+1)\n",
    "x=x-x.mean()\n",
    "sigma=x.std()*0.05\n",
    "mu=x.mean()\n",
    "print(sigma,mu)\n",
    "#1 / ((2 * np.pi) ** 0.5 * sigma) * np.exp(-((x-mu) ** 2 / 2 / (sigma ** 2)))\n",
    "pdf=gaussian(x=x,mu=mu,sigma=sigma)\n",
    "res= np.convolve(signal,pdf)\n",
    "print(pdf)\n",
    "print(np.sum(pdf))\n",
    "print(signal)\n",
    "print(res)"
   ]
  },
  {
   "cell_type": "code",
   "execution_count": 44,
   "metadata": {},
   "outputs": [
    {
     "name": "stdout",
     "output_type": "stream",
     "text": [
      "[0.00000000e+000 0.00000000e+000 0.00000000e+000 0.00000000e+000\n",
      " 0.00000000e+000 0.00000000e+000 0.00000000e+000 0.00000000e+000\n",
      " 0.00000000e+000 0.00000000e+000 0.00000000e+000 5.43472210e-323\n",
      " 1.72823373e-306 2.02534172e-290 8.73171710e-275 1.38486208e-259\n",
      " 8.08014041e-245 1.73435026e-230 1.36949431e-216 3.97822343e-203\n",
      " 4.25131835e-190 1.67133537e-177 2.41718058e-165 1.28605667e-153\n",
      " 2.51719371e-142 1.81250279e-131 4.80116079e-121 4.67863682e-111\n",
      " 1.67725052e-101 2.21198438e-092 1.07317783e-083 1.91543249e-075\n",
      " 1.25767238e-067 3.03790170e-060 2.69951302e-053 8.82475497e-047\n",
      " 1.06126881e-040 4.69519536e-035 7.64165541e-030 4.57537559e-025\n",
      " 1.00779354e-020 8.16623563e-017 2.43432053e-013 2.66955661e-010\n",
      " 1.07697600e-007 1.59837411e-005 8.72682695e-004 1.75283005e-002\n",
      " 1.29517596e-001 3.52065327e-001 3.52065327e-001 1.29517596e-001\n",
      " 1.75283005e-002 8.72682695e-004 1.59837411e-005 1.07697600e-007\n",
      " 2.66955661e-010 2.43432053e-013 8.16623563e-017 1.00779354e-020\n",
      " 4.57537559e-025 7.64165541e-030 4.69519536e-035 1.06126881e-040\n",
      " 8.82475497e-047 2.69951302e-053 3.03790170e-060 1.25767238e-067\n",
      " 1.91543249e-075 1.07317783e-083 2.21198438e-092 1.67725052e-101\n",
      " 4.67863682e-111 4.80116079e-121 1.81250279e-131 2.51719371e-142\n",
      " 1.28605667e-153 2.41718058e-165 1.67133537e-177 4.25131835e-190\n",
      " 3.97822343e-203 1.36949431e-216 1.73435026e-230 8.08014041e-245\n",
      " 1.38486208e-259 8.73171710e-275 2.02534172e-290 1.72823373e-306\n",
      " 5.43472210e-323 0.00000000e+000 0.00000000e+000 0.00000000e+000\n",
      " 0.00000000e+000 0.00000000e+000 0.00000000e+000 0.00000000e+000\n",
      " 0.00000000e+000 0.00000000e+000 0.00000000e+000 0.00000000e+000]\n"
     ]
    },
    {
     "data": {
      "text/plain": [
       "0.999999994649424"
      ]
     },
     "execution_count": 44,
     "metadata": {},
     "output_type": "execute_result"
    }
   ],
   "source": [
    "pdf2 = stats.norm(0,1).pdf(x)\n",
    "print(pdf2)\n",
    "np.sum(pdf2)"
   ]
  },
  {
   "cell_type": "code",
   "execution_count": 8,
   "metadata": {},
   "outputs": [
    {
     "name": "stdout",
     "output_type": "stream",
     "text": [
      "9.313225746154785e-10\n",
      "2.2118711567356232e-07\n"
     ]
    }
   ],
   "source": [
    "x=0.004210564307868481 - 0.004210563376545906\n",
    "print(x)\n",
    "print(x/0.004210564307868481)"
   ]
  },
  {
   "cell_type": "code",
   "execution_count": null,
   "metadata": {},
   "outputs": [],
   "source": []
  }
 ],
 "metadata": {
  "kernelspec": {
   "display_name": "Python 3",
   "language": "python",
   "name": "python3"
  },
  "language_info": {
   "codemirror_mode": {
    "name": "ipython",
    "version": 3
   },
   "file_extension": ".py",
   "mimetype": "text/x-python",
   "name": "python",
   "nbconvert_exporter": "python",
   "pygments_lexer": "ipython3",
   "version": "3.7.1"
  }
 },
 "nbformat": 4,
 "nbformat_minor": 4
}
