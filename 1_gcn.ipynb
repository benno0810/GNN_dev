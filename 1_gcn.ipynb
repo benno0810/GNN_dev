{
 "cells": [
  {
   "cell_type": "code",
   "execution_count": 24,
   "metadata": {},
   "outputs": [],
   "source": [
    "%matplotlib inline"
   ]
  },
  {
   "cell_type": "markdown",
   "metadata": {},
   "source": [
    "\n",
    "\n",
    "Graph Convolutional Network\n",
    "====================================\n",
    "\n",
    "**Author:** `Qi Huang <https://github.com/HQ01>`_, `Minjie Wang  <https://jermainewang.github.io/>`_,\n",
    "Yu Gai, Quan Gan, Zheng Zhang\n",
    "\n",
    "<div class=\"alert alert-danger\"><h4>Warning</h4><p>The tutorial aims at gaining insights into the paper, with code as a mean\n",
    "    of explanation. The implementation thus is NOT optimized for running\n",
    "    efficiency. For recommended implementation, please refer to the `official\n",
    "    examples <https://github.com/dmlc/dgl/tree/master/examples>`_.</p></div>\n",
    "\n",
    "This is a gentle introduction of using DGL to implement Graph Convolutional\n",
    "Networks (Kipf & Welling et al., `Semi-Supervised Classification with Graph\n",
    "Convolutional Networks <https://arxiv.org/pdf/1609.02907.pdf>`_). We explain\n",
    "what is under the hood of the :class:`~dgl.nn.GraphConv` module.\n",
    "The reader is expected to learn how to define a new GNN layer using DGL's\n",
    "message passing APIs.\n"
   ]
  },
  {
   "cell_type": "markdown",
   "metadata": {},
   "source": [
    "Model Overview\n",
    "------------------------------------------\n",
    "GCN from the perspective of message passing\n",
    "```````````````````````````````````````````````\n",
    "We describe a layer of graph convolutional neural network from a message\n",
    "passing perspective; the math can be found `here <math_>`_.\n",
    "It boils down to the following step, for each node $u$:\n",
    "\n",
    "1) Aggregate neighbors' representations $h_{v}$ to produce an\n",
    "intermediate representation $\\hat{h}_u$.  2) Transform the aggregated\n",
    "representation $\\hat{h}_{u}$ with a linear projection followed by a\n",
    "non-linearity: $h_{u} = f(W_{u} \\hat{h}_u)$.\n",
    "\n",
    "We will implement step 1 with DGL message passing, and step 2 by\n",
    "PyTorch ``nn.Module``.\n",
    "\n",
    "GCN implementation with DGL\n",
    "``````````````````````````````````````````\n",
    "We first define the message and reduce function as usual.  Since the\n",
    "aggregation on a node $u$ only involves summing over the neighbors'\n",
    "representations $h_v$, we can simply use builtin functions:\n",
    "\n"
   ]
  },
  {
   "cell_type": "code",
   "execution_count": 33,
   "metadata": {},
   "outputs": [],
   "source": [
    "import dgl\n",
    "import dgl.function as fn\n",
    "import torch as th\n",
    "import torch.nn as nn\n",
    "import torch.nn.functional as F\n",
    "from dgl import DGLGraph\n",
    "\n",
    "gcn_msg = fn.copy_u(u='h', out='m')\n",
    "gcn_reduce = fn.sum(msg='m', out='h')"
   ]
  },
  {
   "cell_type": "markdown",
   "metadata": {},
   "source": [
    "We then proceed to define the GCNLayer module. A GCNLayer essentially performs\n",
    "message passing on all the nodes then applies a fully-connected layer.\n",
    "\n",
    "<div class=\"alert alert-info\"><h4>Note</h4><p>This is showing how to implement a GCN from scratch.  DGL provides a more\n",
    "   efficient :class:`builtin GCN layer module <dgl.nn.pytorch.conv.GraphConv>`.</p></div>\n",
    "\n",
    "\n"
   ]
  },
  {
   "cell_type": "code",
   "execution_count": 26,
   "metadata": {},
   "outputs": [],
   "source": [
    "class GCNLayer(nn.Module):\n",
    "    def __init__(self, in_feats, out_feats):\n",
    "        super(GCNLayer, self).__init__()\n",
    "        self.linear = nn.Linear(in_feats, out_feats)\n",
    "\n",
    "    def forward(self, g, feature):\n",
    "        # Creating a local scope so that all the stored ndata and edata\n",
    "        # (such as the `'h'` ndata below) are automatically popped out\n",
    "        # when the scope exits.\n",
    "        with g.local_scope():\n",
    "            g.ndata['h'] = feature\n",
    "            g.update_all(gcn_msg, gcn_reduce)\n",
    "            h = g.ndata['h']\n",
    "            return self.linear(h)"
   ]
  },
  {
   "cell_type": "markdown",
   "metadata": {},
   "source": [
    "The forward function is essentially the same as any other commonly seen NNs\n",
    "model in PyTorch.  We can initialize GCN like any ``nn.Module``. For example,\n",
    "let's define a simple neural network consisting of two GCN layers. Suppose we\n",
    "are training the classifier for the cora dataset (the input feature size is\n",
    "1433 and the number of classes is 7). The last GCN layer computes node embeddings,\n",
    "so the last layer in general does not apply activation.\n",
    "\n"
   ]
  },
  {
   "cell_type": "code",
   "execution_count": 27,
   "metadata": {},
   "outputs": [
    {
     "name": "stdout",
     "output_type": "stream",
     "text": [
      "Net(\n",
      "  (layer1): GCNLayer(\n",
      "    (linear): Linear(in_features=1433, out_features=16, bias=True)\n",
      "  )\n",
      "  (layer2): GCNLayer(\n",
      "    (linear): Linear(in_features=16, out_features=7, bias=True)\n",
      "  )\n",
      ")\n"
     ]
    }
   ],
   "source": [
    "class Net(nn.Module):\n",
    "    def __init__(self):\n",
    "        super(Net, self).__init__()\n",
    "        self.layer1 = GCNLayer(1433, 16)\n",
    "        self.layer2 = GCNLayer(16, 7)\n",
    "    \n",
    "    def forward(self, g, features):\n",
    "        x = F.relu(self.layer1(g, features))\n",
    "        x = self.layer2(g, x)\n",
    "        return x\n",
    "net = Net()\n",
    "print(net)"
   ]
  },
  {
   "cell_type": "markdown",
   "metadata": {},
   "source": [
    "We load the cora dataset using DGL's built-in data module.\n",
    "\n"
   ]
  },
  {
   "cell_type": "code",
   "execution_count": 31,
   "metadata": {},
   "outputs": [],
   "source": [
    "from dgl.data import CoraGraphDataset\n",
    "def load_cora_data():\n",
    "    dataset = CoraGraphDataset()\n",
    "    g = dataset[0]\n",
    "    features = g.ndata['feat']\n",
    "    labels = g.ndata['label']\n",
    "    train_mask = g.ndata['train_mask']\n",
    "    test_mask = g.ndata['test_mask']\n",
    "    return g, features, labels, train_mask, test_mask"
   ]
  },
  {
   "cell_type": "markdown",
   "metadata": {},
   "source": [
    "When a model is trained, we can use the following method to evaluate\n",
    "the performance of the model on the test dataset:\n",
    "\n"
   ]
  },
  {
   "cell_type": "code",
   "execution_count": 29,
   "metadata": {},
   "outputs": [],
   "source": [
    "def evaluate(model, g, features, labels, mask):\n",
    "    model.eval()\n",
    "    with th.no_grad():\n",
    "        logits = model(g, features)\n",
    "        logits = logits[mask]\n",
    "        labels = labels[mask]\n",
    "        _, indices = th.max(logits, dim=1)\n",
    "        correct = th.sum(indices == labels)\n",
    "        return correct.item() * 1.0 / len(labels)"
   ]
  },
  {
   "cell_type": "markdown",
   "metadata": {},
   "source": [
    "We then train the network as follows:\n",
    "\n"
   ]
  },
  {
   "cell_type": "code",
   "execution_count": 32,
   "metadata": {},
   "outputs": [
    {
     "name": "stdout",
     "output_type": "stream",
     "text": [
      "  NumNodes: 2708\n",
      "  NumEdges: 10556\n",
      "  NumFeats: 1433\n",
      "  NumClasses: 7\n",
      "  NumTrainingSamples: 140\n",
      "  NumValidationSamples: 500\n",
      "  NumTestSamples: 1000\n",
      "Done loading data from cached files.\n",
      "Epoch 00000 | Loss 0.0276 | Test Acc 0.7500 | Time(s) nan\n",
      "Epoch 00001 | Loss 0.0216 | Test Acc 0.7500 | Time(s) nan\n",
      "Epoch 00002 | Loss 0.0168 | Test Acc 0.7510 | Time(s) nan\n",
      "Epoch 00003 | Loss 0.0131 | Test Acc 0.7510 | Time(s) 0.0130\n",
      "Epoch 00004 | Loss 0.0102 | Test Acc 0.7510 | Time(s) 0.0155\n",
      "Epoch 00005 | Loss 0.0080 | Test Acc 0.7470 | Time(s) 0.0147\n",
      "Epoch 00006 | Loss 0.0062 | Test Acc 0.7490 | Time(s) 0.0148\n",
      "Epoch 00007 | Loss 0.0049 | Test Acc 0.7470 | Time(s) 0.0144\n",
      "Epoch 00008 | Loss 0.0039 | Test Acc 0.7460 | Time(s) 0.0147\n",
      "Epoch 00009 | Loss 0.0031 | Test Acc 0.7470 | Time(s) 0.0144\n",
      "Epoch 00010 | Loss 0.0025 | Test Acc 0.7460 | Time(s) 0.0144\n",
      "Epoch 00011 | Loss 0.0020 | Test Acc 0.7450 | Time(s) 0.0142\n",
      "Epoch 00012 | Loss 0.0016 | Test Acc 0.7450 | Time(s) 0.0144\n",
      "Epoch 00013 | Loss 0.0014 | Test Acc 0.7460 | Time(s) 0.0143\n",
      "Epoch 00014 | Loss 0.0011 | Test Acc 0.7470 | Time(s) 0.0142\n",
      "Epoch 00015 | Loss 0.0009 | Test Acc 0.7460 | Time(s) 0.0142\n",
      "Epoch 00016 | Loss 0.0008 | Test Acc 0.7450 | Time(s) 0.0141\n",
      "Epoch 00017 | Loss 0.0007 | Test Acc 0.7450 | Time(s) 0.0142\n",
      "Epoch 00018 | Loss 0.0006 | Test Acc 0.7440 | Time(s) 0.0143\n",
      "Epoch 00019 | Loss 0.0005 | Test Acc 0.7450 | Time(s) 0.0142\n",
      "Epoch 00020 | Loss 0.0005 | Test Acc 0.7430 | Time(s) 0.0142\n",
      "Epoch 00021 | Loss 0.0004 | Test Acc 0.7430 | Time(s) 0.0142\n",
      "Epoch 00022 | Loss 0.0004 | Test Acc 0.7430 | Time(s) 0.0142\n",
      "Epoch 00023 | Loss 0.0003 | Test Acc 0.7420 | Time(s) 0.0141\n",
      "Epoch 00024 | Loss 0.0003 | Test Acc 0.7420 | Time(s) 0.0141\n",
      "Epoch 00025 | Loss 0.0003 | Test Acc 0.7420 | Time(s) 0.0142\n",
      "Epoch 00026 | Loss 0.0002 | Test Acc 0.7420 | Time(s) 0.0143\n",
      "Epoch 00027 | Loss 0.0002 | Test Acc 0.7420 | Time(s) 0.0143\n",
      "Epoch 00028 | Loss 0.0002 | Test Acc 0.7420 | Time(s) 0.0143\n",
      "Epoch 00029 | Loss 0.0002 | Test Acc 0.7420 | Time(s) 0.0143\n",
      "Epoch 00030 | Loss 0.0002 | Test Acc 0.7410 | Time(s) 0.0144\n",
      "Epoch 00031 | Loss 0.0002 | Test Acc 0.7410 | Time(s) 0.0144\n",
      "Epoch 00032 | Loss 0.0002 | Test Acc 0.7410 | Time(s) 0.0143\n",
      "Epoch 00033 | Loss 0.0002 | Test Acc 0.7410 | Time(s) 0.0143\n",
      "Epoch 00034 | Loss 0.0001 | Test Acc 0.7410 | Time(s) 0.0144\n",
      "Epoch 00035 | Loss 0.0001 | Test Acc 0.7410 | Time(s) 0.0145\n",
      "Epoch 00036 | Loss 0.0001 | Test Acc 0.7410 | Time(s) 0.0145\n",
      "Epoch 00037 | Loss 0.0001 | Test Acc 0.7410 | Time(s) 0.0145\n",
      "Epoch 00038 | Loss 0.0001 | Test Acc 0.7410 | Time(s) 0.0144\n",
      "Epoch 00039 | Loss 0.0001 | Test Acc 0.7410 | Time(s) 0.0144\n",
      "Epoch 00040 | Loss 0.0001 | Test Acc 0.7410 | Time(s) 0.0144\n",
      "Epoch 00041 | Loss 0.0001 | Test Acc 0.7410 | Time(s) 0.0144\n",
      "Epoch 00042 | Loss 0.0001 | Test Acc 0.7410 | Time(s) 0.0144\n",
      "Epoch 00043 | Loss 0.0001 | Test Acc 0.7410 | Time(s) 0.0143\n",
      "Epoch 00044 | Loss 0.0001 | Test Acc 0.7410 | Time(s) 0.0143\n",
      "Epoch 00045 | Loss 0.0001 | Test Acc 0.7410 | Time(s) 0.0143\n",
      "Epoch 00046 | Loss 0.0001 | Test Acc 0.7410 | Time(s) 0.0143\n",
      "Epoch 00047 | Loss 0.0001 | Test Acc 0.7410 | Time(s) 0.0143\n",
      "Epoch 00048 | Loss 0.0001 | Test Acc 0.7410 | Time(s) 0.0143\n",
      "Epoch 00049 | Loss 0.0001 | Test Acc 0.7410 | Time(s) 0.0143\n"
     ]
    }
   ],
   "source": [
    "import time\n",
    "import numpy as np\n",
    "g, features, labels, train_mask, test_mask = load_cora_data()\n",
    "# Add edges between each node and itself to preserve old node representations\n",
    "g.add_edges(g.nodes(), g.nodes())\n",
    "optimizer = th.optim.Adam(net.parameters(), lr=1e-2)\n",
    "dur = []\n",
    "for epoch in range(50):\n",
    "    if epoch >=3:\n",
    "        t0 = time.time()\n",
    "\n",
    "    net.train()\n",
    "    logits = net(g, features)\n",
    "    logp = F.log_softmax(logits, 1)\n",
    "    loss = F.nll_loss(logp[train_mask], labels[train_mask])\n",
    "    \n",
    "    optimizer.zero_grad()\n",
    "    loss.backward()\n",
    "    optimizer.step()\n",
    "    \n",
    "    if epoch >=3:\n",
    "        dur.append(time.time() - t0)\n",
    "    \n",
    "    acc = evaluate(net, g, features, labels, test_mask)\n",
    "    print(\"Epoch {:05d} | Loss {:.4f} | Test Acc {:.4f} | Time(s) {:.4f}\".format(\n",
    "            epoch, loss.item(), acc, np.mean(dur)))"
   ]
  },
  {
   "cell_type": "markdown",
   "metadata": {
    "pycharm": {
     "name": "#%% md\n"
    }
   },
   "source": [
    "\n",
    "GCN in one formula\n",
    "------------------\n",
    "Mathematically, the GCN model follows this formula:\n",
    "\n",
    "$H^{(l+1)} = \\sigma(\\tilde{D}^{-\\frac{1}{2}}\\tilde{A}\\tilde{D}^{-\\frac{1}{2}}H^{(l)}W^{(l)})$\n",
    "\n",
    "Here, $H^{(l)}$ denotes the $l^{th}$ layer in the network,\n",
    "$\\sigma$ is the non-linearity, and $W$ is the weight matrix for\n",
    "this layer. $\\tilde{D}$ and $\\tilde{A}$ are separately the degree\n",
    "and adjacency matrices for the graph. With the superscript ~, we are referring\n",
    "to the variant where we add additional edges between each node and itself to\n",
    "preserve its old representation in graph convolutions. The shape of the input\n",
    "$H^{(0)}$ is $N \\times D$, where $N$ is the number of nodes\n",
    "and $D$ is the number of input features. We can chain up multiple\n",
    "layers as such to produce a node-level representation output with shape\n",
    "$N \\times F$, where $F$ is the dimension of the output node\n",
    "feature vector.\n",
    "\n",
    "The equation can be efficiently implemented using sparse matrix\n",
    "multiplication kernels (such as Kipf's\n",
    "`pygcn <https://github.com/tkipf/pygcn>`_ code). The above DGL implementation\n",
    "in fact has already used this trick due to the use of builtin functions.\n",
    "\n",
    "Note that the tutorial code implements a simplified version of GCN where we\n",
    "replace $\\tilde{D}^{-\\frac{1}{2}}\\tilde{A}\\tilde{D}^{-\\frac{1}{2}}$ with\n",
    "$\\tilde{A}$. For a full implementation, see our example\n",
    "`here  <https://github.com/dmlc/dgl/tree/master/examples/pytorch/gcn>`_.\n",
    "\n",
    "\n",
    "\n"
   ]
  },
  {
   "cell_type": "code",
   "execution_count": 3,
   "outputs": [
    {
     "name": "stdout",
     "output_type": "stream",
     "text": [
      "  NumNodes: 2708\n",
      "  NumEdges: 10556\n",
      "  NumFeats: 1433\n",
      "  NumClasses: 7\n",
      "  NumTrainingSamples: 140\n",
      "  NumValidationSamples: 500\n",
      "  NumTestSamples: 1000\n",
      "Done loading data from cached files.\n",
      "Intra-class edges percent: 0.6994\n"
     ]
    },
    {
     "name": "stderr",
     "output_type": "stream",
     "text": [
      "C:\\Users\\benno\\anaconda3\\envs\\gpu\\lib\\site-packages\\dgl\\data\\utils.py:285: UserWarning: Property dataset.graph will be deprecated, please use dataset[0] instead.\n",
      "  warnings.warn('Property {} will be deprecated, please use {} instead.'.format(old, new))\n",
      "C:\\Users\\benno\\anaconda3\\envs\\gpu\\lib\\site-packages\\dgl\\base.py:45: DGLWarning: Recommend creating graphs by `dgl.graph(data)` instead of `dgl.DGLGraph(data)`.\n",
      "  return warnings.warn(message, category=category, stacklevel=1)\n",
      "C:\\Users\\benno\\anaconda3\\envs\\gpu\\lib\\site-packages\\dgl\\data\\utils.py:285: UserWarning: Property dataset.label will be deprecated, please use g.ndata['label'] instead.\n",
      "  warnings.warn('Property {} will be deprecated, please use {} instead.'.format(old, new))\n"
     ]
    }
   ],
   "source": [
    "import torch\n",
    "import torch as th\n",
    "import torch.nn as nn\n",
    "import torch.nn.functional as F\n",
    "\n",
    "import dgl\n",
    "from dgl.data import citation_graph as citegrh\n",
    "\n",
    "data = citegrh.load_cora()\n",
    "\n",
    "G = dgl.DGLGraph(data.graph)\n",
    "labels = th.tensor(data.labels)\n",
    "\n",
    "# find all the nodes labeled with class 0\n",
    "label0_nodes = th.nonzero(labels == 0).squeeze()\n",
    "# find all the edges pointing to class 0 nodes\n",
    "src, _ = G.in_edges(label0_nodes)\n",
    "src_labels = labels[src]\n",
    "# find all the edges whose both endpoints are in class 0\n",
    "intra_src = th.nonzero(src_labels == 0)\n",
    "print('Intra-class edges percent: %.4f' % (len(intra_src) / len(src_labels)))\n"
   ],
   "metadata": {
    "collapsed": false,
    "pycharm": {
     "name": "#%%\n"
    }
   }
  },
  {
   "cell_type": "code",
   "execution_count": 12,
   "outputs": [
    {
     "name": "stderr",
     "output_type": "stream",
     "text": [
      "C:\\Users\\benno\\anaconda3\\envs\\gpu\\lib\\site-packages\\dgl\\base.py:45: DGLWarning: DGLGraph.__len__ is deprecated.Please directly call DGLGraph.number_of_nodes.\n",
      "  return warnings.warn(message, category=category, stacklevel=1)\n"
     ]
    },
    {
     "data": {
      "text/plain": "<Figure size 576x576 with 1 Axes>",
      "image/png": "[encoded data removed]"
     },
     "metadata": {},
     "output_type": "display_data"
    }
   ],
   "source": [
    "import networkx as nx\n",
    "import matplotlib.pyplot as plt\n",
    "import dgl\n",
    "from dgl.data import KarateClubDataset\n",
    "#train_set = dgl.data.CoraBinary()\n",
    "train_set=KarateClubDataset()\n",
    "G1 = train_set[0]\n",
    "label1 = G1.ndata['label']\n",
    "#G1, pmpd1, label1 = train_set[1]\n",
    "nx_G1 = G1.to_networkx()\n",
    "\n",
    "def visualize(labels, g):\n",
    "    pos = nx.spring_layout(g, seed=1)\n",
    "    plt.figure(figsize=(8, 8))\n",
    "    plt.axis('off')\n",
    "    nx.draw_networkx(g, pos=pos, node_size=50, cmap=plt.get_cmap('coolwarm'),\n",
    "                     node_color=labels, edge_color='k',\n",
    "                     arrows=False, width=0.5, style='dotted', with_labels=False)\n",
    "visualize(label1, nx_G1)"
   ],
   "metadata": {
    "collapsed": false,
    "pycharm": {
     "name": "#%%\n"
    }
   }
  },
  {
   "cell_type": "code",
   "execution_count": null,
   "outputs": [],
   "source": [
    "optimizer = torch.optim.Adam(net.parameters(), lr=0.01)\n",
    "all_logits = []\n",
    "for epoch in range(30):\n",
    "    logits = net(G, inputs)\n",
    "    # we save the logits for visualization later\n",
    "    all_logits.append(logits.detach())\n",
    "    logp = F.log_softmax(logits, 1)\n",
    "    # we only compute loss for labeled nodes\n",
    "    loss = F.nll_loss(logp[labeled_nodes], labels)\n",
    "\n",
    "    optimizer.zero_grad()\n",
    "    loss.backward()\n",
    "    optimizer.step()\n",
    "\n",
    "    print('Epoch %d | Loss: %.4f' % (epoch, loss.item()))\n"
   ],
   "metadata": {
    "collapsed": false,
    "pycharm": {
     "name": "#%%\n"
    }
   }
  },
  {
   "cell_type": "code",
   "execution_count": null,
   "outputs": [],
   "source": [
    "# Create input\n",
    "inputs = torch.eye(34)\n",
    "labeled_nodes = torch.tensor([0, 33])  # only the instructor and the president nodes are labeled\n",
    "labels = torch.tensor([0, 1])  # their labels are different"
   ],
   "metadata": {
    "collapsed": false,
    "pycharm": {
     "name": "#%%\n"
    }
   }
  },
  {
   "cell_type": "code",
   "execution_count": null,
   "outputs": [],
   "source": [
    "#loss function for unsupervised task\n",
    "class CrossEntropyLoss(nn.Module):\n",
    "    def forward(self, block_outputs, pos_graph, neg_graph):\n",
    "        with pos_graph.local_scope():\n",
    "            pos_graph.ndata['h'] = block_outputs\n",
    "            pos_graph.apply_edges(fn.u_dot_v('h', 'h', 'score'))\n",
    "            pos_score = pos_graph.edata['score']\n",
    "        with neg_graph.local_scope():\n",
    "            neg_graph.ndata['h'] = block_outputs\n",
    "            neg_graph.apply_edges(fn.u_dot_v('h', 'h', 'score'))\n",
    "            neg_score = neg_graph.edata['score']\n",
    "\n",
    "        score = torch.cat([pos_score, neg_score])\n",
    "        label = torch.cat([torch.ones_like(pos_score), torch.zeros_like(neg_score)]).long()\n",
    "        loss = F.binary_cross_entropy_with_logits(score, label.float())\n",
    "        return loss\n"
   ],
   "metadata": {
    "collapsed": false,
    "pycharm": {
     "name": "#%%\n"
    }
   }
  },
  {
   "cell_type": "code",
   "execution_count": 17,
   "outputs": [
    {
     "name": "stdout",
     "output_type": "stream",
     "text": [
      "  NumNodes: 2708\n",
      "  NumEdges: 10556\n",
      "  NumFeats: 1433\n",
      "  NumClasses: 7\n",
      "  NumTrainingSamples: 140\n",
      "  NumValidationSamples: 500\n",
      "  NumTestSamples: 1000\n",
      "Done loading data from cached files.\n",
      "2 34\n"
     ]
    },
    {
     "name": "stderr",
     "output_type": "stream",
     "text": [
      "C:\\Users\\benno\\anaconda3\\envs\\gpu\\lib\\site-packages\\dgl\\base.py:45: DGLWarning: DGLGraph.__len__ is deprecated.Please directly call DGLGraph.number_of_nodes.\n",
      "  return warnings.warn(message, category=category, stacklevel=1)\n"
     ]
    }
   ],
   "source": [
    "from dgl.data import CoraGraphDataset\n",
    "dataset = CoraGraphDataset()\n",
    "g=dataset[0]\n",
    "g.ndata['test_mask']\n",
    "data =KarateClubDataset()\n",
    "n_classes = data.num_classes\n",
    "g = data[0]\n",
    "print(n_classes,len(g))"
   ],
   "metadata": {
    "collapsed": false,
    "pycharm": {
     "name": "#%%\n"
    }
   }
  }
 ],
 "metadata": {
  "kernelspec": {
   "display_name": "gpu",
   "language": "python",
   "name": "gpu"
  },
  "language_info": {
   "codemirror_mode": {
    "name": "ipython",
    "version": 3
   },
   "file_extension": ".py",
   "mimetype": "text/x-python",
   "name": "python",
   "nbconvert_exporter": "python",
   "pygments_lexer": "ipython3",
   "version": "3.7.1"
  }
 },
 "nbformat": 4,
 "nbformat_minor": 1
}